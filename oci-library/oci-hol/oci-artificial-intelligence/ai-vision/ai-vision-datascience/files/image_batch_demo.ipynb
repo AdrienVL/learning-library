{
 "cells": [
  {
   "cell_type": "markdown",
   "id": "1bc33cb1",
   "metadata": {},
   "source": [
    "# <b>Image classification batch feature demo</b>"
   ]
  },
  {
   "cell_type": "markdown",
   "id": "ac5738bb",
   "metadata": {},
   "source": [
    "The AIServiceVisionClient offers the image classification feature in batch mode. This notebook aims to provide overall clarity about the feature to the user in terms of requirements, usage and the output of the batch i.e. asynchronous API.<br>\n",
    "<ul>\n",
    "    <li>The output response files are stored at the object storage specified in <code>data/output_object_image_batch.json</code>. </li>\n",
    "<li>The detected classes for a random input image are displayed in the last section of the notebook.</li>\n",
    "</ul>"
   ]
  },
  {
   "cell_type": "markdown",
   "id": "1d6cf765",
   "metadata": {},
   "source": [
    "### Steps to run the notebook:\n",
    "<details>\n",
    "    <summary>Notebook session setup</summary>\n",
    "    <ol>\n",
    "        <li><font size=\"2\">Installing the OCI Vision SDK</font></li>\n",
    "        <li><font size=\"2\">Installing other dependencies</font></li>\n",
    "        <li><font size=\"2\">Setup sample input images</font></li>\n",
    "        <li><font size=\"2\">Setup helper .py files</font></li>\n",
    "    </ol>\n",
    "</details>\n",
    "\n",
    "<details>\n",
    "    <summary>Importing the required modules</summary>\n",
    "</details>\n",
    "\n",
    "<details>\n",
    "    <summary>Setting the input variables</summary>\n",
    "     <font size=\"2\">The user can change the input variables, if necessary. They have been assigned default values.</font>\n",
    "</details>\n",
    "\n",
    "<details>\n",
    "    <summary>Running the main pipeline</summary>\n",
    "    <font size=\"2\">Run all cells to get the output in the <code>output</code> directory. </font><br>\n",
    "</details>"
   ]
  },
  {
   "cell_type": "markdown",
   "id": "a9753e09",
   "metadata": {},
   "source": [
    "### Notebook session setup\n",
    "<details>\n",
    "    <summary>Instructions</summary>\n",
    "    <ul>\n",
    "        <li><font size=\"2\">The user needs to setup only once.</font></li>\n",
    "        <li><font size=\"2\">Uncomment the commented cells and run once to setup.</font></li>\n",
    "        <li><font size=\"2\">Comment back the same cells to avoid running again.</font></li>\n",
    "    </ul>\n",
    "</details>"
   ]
  },
  {
   "cell_type": "markdown",
   "id": "5a785f97",
   "metadata": {},
   "source": [
    "#### Installing the OCI Vision SDK"
   ]
  },
  {
   "cell_type": "code",
   "execution_count": 1,
   "id": "c8771536",
   "metadata": {},
   "outputs": [],
   "source": [
    "# !wget \"https://objectstorage.us-ashburn-1.oraclecloud.com/n/axhheqi2ofpb/b/vision-demo-notebooks/o/vision_service_python_client-0.3.45-py2.py3-none-any.whl\"\n",
    "# !pip install vision_service_python_client-0.3.45-py2.py3-none-any.whl\n",
    "# !rm vision_service_python_client-0.3.45-py2.py3-none-any.whl"
   ]
  },
  {
   "cell_type": "markdown",
   "id": "0a0d1207",
   "metadata": {},
   "source": [
    "#### Installing other dependencies"
   ]
  },
  {
   "cell_type": "code",
   "execution_count": 2,
   "id": "19cc7073",
   "metadata": {},
   "outputs": [],
   "source": [
    "# !pip install matplotlib==3.3.4\n",
    "# !pip install pandas==1.1.5"
   ]
  },
  {
   "cell_type": "markdown",
   "id": "713b9f3e",
   "metadata": {},
   "source": [
    "#### Setup sample input images"
   ]
  },
  {
   "cell_type": "code",
   "execution_count": 25,
   "id": "6a64cac3",
   "metadata": {},
   "outputs": [],
   "source": [
    "# !wget \"https://objectstorage.us-ashburn-1.oraclecloud.com/n/axhheqi2ofpb/b/vision-demo-notebooks/o/input_objects_image_batch.json\"\n",
    "# !wget \"https://objectstorage.us-ashburn-1.oraclecloud.com/n/axhheqi2ofpb/b/vision-demo-notebooks/o/output_object_image_batch.json\"\n",
    "# !mkdir data\n",
    "# !mv input_objects_image_batch.json data\n",
    "# !mv output_object_image_batch.json data"
   ]
  },
  {
   "cell_type": "markdown",
   "id": "4d26e1fd",
   "metadata": {},
   "source": [
    "#### Setup helper .py files"
   ]
  },
  {
   "cell_type": "code",
   "execution_count": 24,
   "id": "1cd03800",
   "metadata": {},
   "outputs": [],
   "source": [
    "# !wget \"https://objectstorage.us-ashburn-1.oraclecloud.com/n/axhheqi2ofpb/b/vision-demo-notebooks/o/analyze_image_batch_utils.py\"\n",
    "# !mkdir helper\n",
    "# !mv analyze_image_batch_utils.py helper"
   ]
  },
  {
   "cell_type": "markdown",
   "id": "93cd68ed",
   "metadata": {},
   "source": [
    "### Imports"
   ]
  },
  {
   "cell_type": "code",
   "execution_count": 15,
   "id": "07d461dd",
   "metadata": {},
   "outputs": [],
   "source": [
    "import time\n",
    "import json\n",
    "import io\n",
    "from random import randint\n",
    "import oci\n",
    "from PIL import Image\n",
    "\n",
    "from vision_service_python_client.models import output_location\n",
    "from vision_service_python_client.ai_service_vision_client import AIServiceVisionClient\n",
    "from vision_service_python_client.models.create_image_job_details import CreateImageJobDetails\n",
    "from vision_service_python_client.models.image_classification_feature import ImageClassificationFeature\n",
    "from helper.analyze_image_batch_utils import load_input_object_locations, load_output_object_location, display_classes, clean_output\n",
    "from IPython.display import JSON"
   ]
  },
  {
   "cell_type": "markdown",
   "id": "d48c12e8",
   "metadata": {},
   "source": [
    "### Set input variables\n",
    "<details>\n",
    "    <summary><font size=\"3\">input_location_path</font></summary>\n",
    "    <font size=\"2\">The file <code>data/input_objects_image_batch.json</code> specifies where the input images are to be taken from. Default values have been set. If needed, the user needs to provide the following in this file:\n",
    "        <ul>\n",
    "            <li><code>compartment_id</code> : Compartment ID</li>\n",
    "            <li><code>input_objects</code>: List with the object locations in the following format-</li>\n",
    "            <ul>\n",
    "                <li><code>namespace</code> : Namespace name</li>\n",
    "                <li><code>bucket</code> : Bucket name</li>\n",
    "                <li><code>objects</code> : List of object names</li>\n",
    "            </ul>\n",
    "        </ul>\n",
    "    </font>\n",
    "</details>\n",
    "\n",
    "<details>\n",
    "    <summary><font size=\"3\">output_location_path</font></summary>\n",
    "    <font size=\"2\">The file <code>data/output_object_image_batch.json</code> specifies where the output files will be stored. Default values have been set. If needed, the user needs to provide the following in this file:\n",
    "        <ul>\n",
    "            <li><code>namespace</code> : Namespace name</li>\n",
    "            <li><code>bucket</code> : Bucket name</li>\n",
    "            <li><code>prefix</code> : Prefix name</li>\n",
    "        </ul>\n",
    "    </font>\n",
    "</details>\n",
    "\n",
    "<details>\n",
    "<summary><font size=\"3\">max_results</font></summary>\n",
    "    <font size=\"2\">Provide the maximum number of results needed for image classification. This is an upper limit over the output classes, the API may detect lesser classes according to the image.</font><br>\n",
    "</details>"
   ]
  },
  {
   "cell_type": "code",
   "execution_count": 16,
   "id": "2159ba51",
   "metadata": {},
   "outputs": [],
   "source": [
    "input_location_path = 'data/input_objects_image_batch.json'\n",
    "output_location_path = 'data/output_object_image_batch.json'\n",
    "max_results = 5"
   ]
  },
  {
   "cell_type": "markdown",
   "id": "aef03429",
   "metadata": {},
   "source": [
    "### Authorize user config"
   ]
  },
  {
   "cell_type": "code",
   "execution_count": 17,
   "id": "290d6818",
   "metadata": {},
   "outputs": [],
   "source": [
    "config = oci.config.from_file('~/.oci/config')"
   ]
  },
  {
   "cell_type": "markdown",
   "id": "7e8b635a",
   "metadata": {},
   "source": [
    "### Load input and output object locations"
   ]
  },
  {
   "cell_type": "code",
   "execution_count": 18,
   "id": "571afb45",
   "metadata": {},
   "outputs": [],
   "source": [
    "compartment_id, input_location = load_input_object_locations(input_location_path)\n",
    "output_location = load_output_object_location(output_location_path)"
   ]
  },
  {
   "cell_type": "markdown",
   "id": "0635c6ec",
   "metadata": {},
   "source": [
    "### Create AI service vision client and image job"
   ]
  },
  {
   "cell_type": "code",
   "execution_count": 19,
   "id": "8d764263",
   "metadata": {},
   "outputs": [],
   "source": [
    "ai_service_vision_client = AIServiceVisionClient(config=config)\n",
    "create_image_job_details = CreateImageJobDetails()\n",
    "\n",
    "image_classification_feature = ImageClassificationFeature()\n",
    "image_classification_feature.max_results = max_results\n",
    "features = [image_classification_feature]\n",
    "create_image_job_details.features = features\n",
    "create_image_job_details.compartment_id = compartment_id\n",
    "create_image_job_details.input_location = input_location\n",
    "create_image_job_details.output_location = output_location\n",
    "\n",
    "res = ai_service_vision_client.create_image_job(create_image_job_details=create_image_job_details)"
   ]
  },
  {
   "cell_type": "markdown",
   "id": "e29da2b9",
   "metadata": {},
   "source": [
    "### Job submitted\n",
    "The job is created and is in <code>ACCEPTED</code> state."
   ]
  },
  {
   "cell_type": "code",
   "execution_count": 20,
   "id": "30baa178",
   "metadata": {},
   "outputs": [
    {
     "data": {
      "application/json": {
       "compartment_id": "ocid1.compartment.oc1..aaaaaaaauxaya7zkh23sch3udnsn4s5t2fdaxaswaqii6w2fc5oh5rige4bq",
       "features": [
        {
         "feature_type": "IMAGE_CLASSIFICATION",
         "max_results": 5
        }
       ],
       "id": "ocid1.aivisionimagejob.oc1.iad.amaaaaaa74akfsaaf4qwvdww4fmhrrok3gefwnkgrzmg3ugxqc6e57rz62va",
       "input_location": {
        "object_locations": [
         {
          "bucket_name": "async-demo",
          "namespace_name": "axhheqi2ofpb",
          "object_name": "og-social-redbullcar.jpg"
         },
         {
          "bucket_name": "async-demo",
          "namespace_name": "axhheqi2ofpb",
          "object_name": "book-page.png"
         }
        ],
        "source_type": "OBJECT_LIST_INLINE_INPUT_LOCATION"
       },
       "lifecycle_state": "ACCEPTED",
       "output_location": {
        "bucket_name": "async-demo",
        "namespace_name": "axhheqi2ofpb",
        "prefix": "image_batch_notebook_result"
       },
       "percent_complete": 0,
       "time_accepted": "2021-11-01T10:46:01.555000+00:00"
      },
      "text/plain": [
       "<IPython.core.display.JSON object>"
      ]
     },
     "execution_count": 20,
     "metadata": {
      "application/json": {
       "expanded": false,
       "root": "root"
      }
     },
     "output_type": "execute_result"
    }
   ],
   "source": [
    "res_json = json.loads(repr(res.data))\n",
    "clean_res = clean_output(res_json)\n",
    "JSON(clean_res)"
   ]
  },
  {
   "cell_type": "markdown",
   "id": "015541b2",
   "metadata": {},
   "source": [
    "### Job in progress\n",
    "The job progress is tracked till completion with an interval of 5 seconds and is in <code>IN_PROGRESS</code> state."
   ]
  },
  {
   "cell_type": "code",
   "execution_count": 21,
   "id": "57ee370f",
   "metadata": {},
   "outputs": [
    {
     "name": "stdout",
     "output_type": "stream",
     "text": [
      "Job ID : ocid1.aivisionimagejob.oc1.iad.amaaaaaa74akfsaaf4qwvdww4fmhrrok3gefwnkgrzmg3ugxqc6e57rz62va \n",
      "\n",
      "Job is IN_PROGRESS for 0 seconds\n",
      "Job is IN_PROGRESS for 5 seconds\n",
      "Job is IN_PROGRESS for 10 seconds\n",
      "Job is IN_PROGRESS for 15 seconds\n",
      "Job is IN_PROGRESS for 20 seconds\n",
      "Job is IN_PROGRESS for 25 seconds\n",
      "Job is IN_PROGRESS for 30 seconds\n",
      "Job is IN_PROGRESS for 35 seconds\n"
     ]
    }
   ],
   "source": [
    "job_id = res.data.id\n",
    "print(\"Job ID :\", job_id, '\\n')\n",
    "seconds = 0\n",
    "res = ai_service_vision_client.get_image_job(image_job_id=job_id)\n",
    "\n",
    "while res.data.lifecycle_state in [\"IN_PROGRESS\", \"ACCEPTED\"]:\n",
    "    print(\"Job is IN_PROGRESS for \" + str(seconds) + \" seconds\")\n",
    "    time.sleep(5)\n",
    "    seconds += 5\n",
    "    res = ai_service_vision_client.get_image_job(image_job_id=job_id)"
   ]
  },
  {
   "cell_type": "markdown",
   "id": "a8459745",
   "metadata": {},
   "source": [
    "### Job completed\n",
    "The job is completed and is in <code>SUCCEEDED</code> state."
   ]
  },
  {
   "cell_type": "code",
   "execution_count": 22,
   "id": "c2d9bf31",
   "metadata": {},
   "outputs": [
    {
     "data": {
      "application/json": {
       "compartment_id": "ocid1.compartment.oc1..aaaaaaaauxaya7zkh23sch3udnsn4s5t2fdaxaswaqii6w2fc5oh5rige4bq",
       "features": [
        {
         "feature_type": "IMAGE_CLASSIFICATION",
         "max_results": 5
        }
       ],
       "id": "ocid1.aivisionimagejob.oc1.iad.amaaaaaa74akfsaaf4qwvdww4fmhrrok3gefwnkgrzmg3ugxqc6e57rz62va",
       "input_location": {
        "object_locations": [
         {
          "bucket_name": "async-demo",
          "namespace_name": "axhheqi2ofpb",
          "object_name": "og-social-redbullcar.jpg"
         },
         {
          "bucket_name": "async-demo",
          "namespace_name": "axhheqi2ofpb",
          "object_name": "book-page.png"
         }
        ],
        "source_type": "OBJECT_LIST_INLINE_INPUT_LOCATION"
       },
       "lifecycle_details": "COMPLETELY_FAILED",
       "lifecycle_state": "FAILED",
       "output_location": {
        "bucket_name": "async-demo",
        "namespace_name": "axhheqi2ofpb",
        "prefix": "image_batch_notebook_result"
       },
       "percent_complete": 100,
       "time_accepted": "2021-11-01T10:46:01.555000+00:00",
       "time_finished": "2021-11-01T10:46:42.859000+00:00",
       "time_started": "2021-11-01T10:46:10.111000+00:00"
      },
      "text/plain": [
       "<IPython.core.display.JSON object>"
      ]
     },
     "execution_count": 22,
     "metadata": {
      "application/json": {
       "expanded": false,
       "root": "root"
      }
     },
     "output_type": "execute_result"
    }
   ],
   "source": [
    "res_json = json.loads(repr(res.data))\n",
    "clean_res = clean_output(res_json)\n",
    "JSON(clean_res)"
   ]
  },
  {
   "cell_type": "markdown",
   "id": "ae9deca7",
   "metadata": {},
   "source": [
    "### Display detected classes\n",
    "The detected classes will be displayed in decreasing order of confidence level for a randomly selected image from the batch input."
   ]
  },
  {
   "cell_type": "code",
   "execution_count": 23,
   "id": "cc9cfa60",
   "metadata": {},
   "outputs": [
    {
     "ename": "ServiceError",
     "evalue": "{'opc-request-id': 'iad-1:atx5LAPi8asrQNwF9FNo6ffKrYltuKA4hjfjNF8mWHfcrJ4euP9V63yOsfgfcMYL', 'code': 'BucketNotFound', 'message': \"Either the bucket named 'async-demo' does not exist in the namespace 'axhheqi2ofpb' or you are not authorized to access it\", 'status': 404}",
     "output_type": "error",
     "traceback": [
      "\u001b[0;31m---------------------------------------------------------------------------\u001b[0m",
      "\u001b[0;31mServiceError\u001b[0m                              Traceback (most recent call last)",
      "\u001b[0;32m<ipython-input-23-388cb8637eee>\u001b[0m in \u001b[0;36m<module>\u001b[0;34m\u001b[0m\n\u001b[1;32m      9\u001b[0m \u001b[0;34m\u001b[0m\u001b[0m\n\u001b[1;32m     10\u001b[0m res_json = object_storage_client.get_object(output_location.namespace_name, \\\n\u001b[0;32m---> 11\u001b[0;31m     output_location.bucket_name, object_name = output_object_name+\".json\").data.content\n\u001b[0m\u001b[1;32m     12\u001b[0m \u001b[0mres_dict\u001b[0m \u001b[0;34m=\u001b[0m \u001b[0mjson\u001b[0m\u001b[0;34m.\u001b[0m\u001b[0mloads\u001b[0m\u001b[0;34m(\u001b[0m\u001b[0mres_json\u001b[0m\u001b[0;34m)\u001b[0m\u001b[0;34m\u001b[0m\u001b[0;34m\u001b[0m\u001b[0m\n\u001b[1;32m     13\u001b[0m \u001b[0;34m\u001b[0m\u001b[0m\n",
      "\u001b[0;32m/opt/conda/lib/python3.6/site-packages/oci/object_storage/object_storage_client.py\u001b[0m in \u001b[0;36mget_object\u001b[0;34m(self, namespace_name, bucket_name, object_name, **kwargs)\u001b[0m\n\u001b[1;32m   1945\u001b[0m                 \u001b[0mquery_params\u001b[0m\u001b[0;34m=\u001b[0m\u001b[0mquery_params\u001b[0m\u001b[0;34m,\u001b[0m\u001b[0;34m\u001b[0m\u001b[0;34m\u001b[0m\u001b[0m\n\u001b[1;32m   1946\u001b[0m                 \u001b[0mheader_params\u001b[0m\u001b[0;34m=\u001b[0m\u001b[0mheader_params\u001b[0m\u001b[0;34m,\u001b[0m\u001b[0;34m\u001b[0m\u001b[0;34m\u001b[0m\u001b[0m\n\u001b[0;32m-> 1947\u001b[0;31m                 response_type=\"stream\")\n\u001b[0m\u001b[1;32m   1948\u001b[0m \u001b[0;34m\u001b[0m\u001b[0m\n\u001b[1;32m   1949\u001b[0m     \u001b[0;32mdef\u001b[0m \u001b[0mget_object_lifecycle_policy\u001b[0m\u001b[0;34m(\u001b[0m\u001b[0mself\u001b[0m\u001b[0;34m,\u001b[0m \u001b[0mnamespace_name\u001b[0m\u001b[0;34m,\u001b[0m \u001b[0mbucket_name\u001b[0m\u001b[0;34m,\u001b[0m \u001b[0;34m**\u001b[0m\u001b[0mkwargs\u001b[0m\u001b[0;34m)\u001b[0m\u001b[0;34m:\u001b[0m\u001b[0;34m\u001b[0m\u001b[0;34m\u001b[0m\u001b[0m\n",
      "\u001b[0;32m/opt/conda/lib/python3.6/site-packages/oci/base_client.py\u001b[0m in \u001b[0;36mcall_api\u001b[0;34m(self, resource_path, method, path_params, query_params, header_params, body, response_type, enforce_content_headers)\u001b[0m\n\u001b[1;32m    425\u001b[0m         \u001b[0;32melse\u001b[0m\u001b[0;34m:\u001b[0m\u001b[0;34m\u001b[0m\u001b[0;34m\u001b[0m\u001b[0m\n\u001b[1;32m    426\u001b[0m             \u001b[0mstart\u001b[0m \u001b[0;34m=\u001b[0m \u001b[0mtimer\u001b[0m\u001b[0;34m(\u001b[0m\u001b[0;34m)\u001b[0m\u001b[0;34m\u001b[0m\u001b[0;34m\u001b[0m\u001b[0m\n\u001b[0;32m--> 427\u001b[0;31m             \u001b[0mresponse\u001b[0m \u001b[0;34m=\u001b[0m \u001b[0mself\u001b[0m\u001b[0;34m.\u001b[0m\u001b[0mrequest\u001b[0m\u001b[0;34m(\u001b[0m\u001b[0mrequest\u001b[0m\u001b[0;34m)\u001b[0m\u001b[0;34m\u001b[0m\u001b[0;34m\u001b[0m\u001b[0m\n\u001b[0m\u001b[1;32m    428\u001b[0m             \u001b[0mend\u001b[0m \u001b[0;34m=\u001b[0m \u001b[0mtimer\u001b[0m\u001b[0;34m(\u001b[0m\u001b[0;34m)\u001b[0m\u001b[0;34m\u001b[0m\u001b[0;34m\u001b[0m\u001b[0m\n\u001b[1;32m    429\u001b[0m             \u001b[0mself\u001b[0m\u001b[0;34m.\u001b[0m\u001b[0mlogger\u001b[0m\u001b[0;34m.\u001b[0m\u001b[0mdebug\u001b[0m\u001b[0;34m(\u001b[0m\u001b[0;34m'time elapsed for request: {}'\u001b[0m\u001b[0;34m.\u001b[0m\u001b[0mformat\u001b[0m\u001b[0;34m(\u001b[0m\u001b[0mstr\u001b[0m\u001b[0;34m(\u001b[0m\u001b[0mend\u001b[0m \u001b[0;34m-\u001b[0m \u001b[0mstart\u001b[0m\u001b[0;34m)\u001b[0m\u001b[0;34m)\u001b[0m\u001b[0;34m)\u001b[0m\u001b[0;34m\u001b[0m\u001b[0;34m\u001b[0m\u001b[0m\n",
      "\u001b[0;32m/opt/conda/lib/python3.6/site-packages/oci/base_client.py\u001b[0m in \u001b[0;36mrequest\u001b[0;34m(self, request)\u001b[0m\n\u001b[1;32m    540\u001b[0m \u001b[0;34m\u001b[0m\u001b[0m\n\u001b[1;32m    541\u001b[0m         \u001b[0;32mif\u001b[0m \u001b[0;32mnot\u001b[0m \u001b[0;36m200\u001b[0m \u001b[0;34m<=\u001b[0m \u001b[0mresponse\u001b[0m\u001b[0;34m.\u001b[0m\u001b[0mstatus_code\u001b[0m \u001b[0;34m<=\u001b[0m \u001b[0;36m299\u001b[0m\u001b[0;34m:\u001b[0m\u001b[0;34m\u001b[0m\u001b[0;34m\u001b[0m\u001b[0m\n\u001b[0;32m--> 542\u001b[0;31m             \u001b[0mself\u001b[0m\u001b[0;34m.\u001b[0m\u001b[0mraise_service_error\u001b[0m\u001b[0;34m(\u001b[0m\u001b[0mrequest\u001b[0m\u001b[0;34m,\u001b[0m \u001b[0mresponse\u001b[0m\u001b[0;34m)\u001b[0m\u001b[0;34m\u001b[0m\u001b[0;34m\u001b[0m\u001b[0m\n\u001b[0m\u001b[1;32m    543\u001b[0m \u001b[0;34m\u001b[0m\u001b[0m\n\u001b[1;32m    544\u001b[0m         \u001b[0;32mif\u001b[0m \u001b[0mstream\u001b[0m\u001b[0;34m:\u001b[0m\u001b[0;34m\u001b[0m\u001b[0;34m\u001b[0m\u001b[0m\n",
      "\u001b[0;32m/opt/conda/lib/python3.6/site-packages/oci/base_client.py\u001b[0m in \u001b[0;36mraise_service_error\u001b[0;34m(self, request, response)\u001b[0m\n\u001b[1;32m    710\u001b[0m             \u001b[0mresponse\u001b[0m\u001b[0;34m.\u001b[0m\u001b[0mheaders\u001b[0m\u001b[0;34m,\u001b[0m\u001b[0;34m\u001b[0m\u001b[0;34m\u001b[0m\u001b[0m\n\u001b[1;32m    711\u001b[0m             \u001b[0mmessage\u001b[0m\u001b[0;34m,\u001b[0m\u001b[0;34m\u001b[0m\u001b[0;34m\u001b[0m\u001b[0m\n\u001b[0;32m--> 712\u001b[0;31m             original_request=request)\n\u001b[0m\u001b[1;32m    713\u001b[0m \u001b[0;34m\u001b[0m\u001b[0m\n\u001b[1;32m    714\u001b[0m     \u001b[0;32mdef\u001b[0m \u001b[0mdeserialize_response_data\u001b[0m\u001b[0;34m(\u001b[0m\u001b[0mself\u001b[0m\u001b[0;34m,\u001b[0m \u001b[0mresponse_data\u001b[0m\u001b[0;34m,\u001b[0m \u001b[0mresponse_type\u001b[0m\u001b[0;34m)\u001b[0m\u001b[0;34m:\u001b[0m\u001b[0;34m\u001b[0m\u001b[0;34m\u001b[0m\u001b[0m\n",
      "\u001b[0;31mServiceError\u001b[0m: {'opc-request-id': 'iad-1:atx5LAPi8asrQNwF9FNo6ffKrYltuKA4hjfjNF8mWHfcrJ4euP9V63yOsfgfcMYL', 'code': 'BucketNotFound', 'message': \"Either the bucket named 'async-demo' does not exist in the namespace 'axhheqi2ofpb' or you are not authorized to access it\", 'status': 404}"
     ]
    }
   ],
   "source": [
    "object_storage_client = oci.object_storage.ObjectStorageClient(config)\n",
    "\n",
    "index = randint(0, len(input_location.object_locations) - 1)\n",
    "object_location = input_location.object_locations[index]\n",
    "\n",
    "output_object_name = output_location.prefix + \"/\" + res.data.id + \"/\" + \\\n",
    "        output_location.namespace_name  + \"_\" + output_location.bucket_name + \"_\" + \\\n",
    "            object_location.object_name\n",
    "\n",
    "res_json = object_storage_client.get_object(output_location.namespace_name, \\\n",
    "    output_location.bucket_name, object_name = output_object_name+\".json\").data.content\n",
    "res_dict = json.loads(res_json)\n",
    "\n",
    "print(\"Image :\", object_location.object_name)\n",
    "if res_dict['labels'] is not None:\n",
    "    display_classes(res_dict['labels'])\n",
    "else:\n",
    "    print(\"No image classes detected.\")"
   ]
  },
  {
   "cell_type": "code",
   "execution_count": null,
   "id": "5fc5c55c",
   "metadata": {},
   "outputs": [],
   "source": []
  }
 ],
 "metadata": {
  "kernelspec": {
   "display_name": "Python 3",
   "language": "python",
   "name": "python3"
  },
  "language_info": {
   "codemirror_mode": {
    "name": "ipython",
    "version": 3
   },
   "file_extension": ".py",
   "mimetype": "text/x-python",
   "name": "python",
   "nbconvert_exporter": "python",
   "pygments_lexer": "ipython3",
   "version": "3.6.10"
  }
 },
 "nbformat": 4,
 "nbformat_minor": 5
}
