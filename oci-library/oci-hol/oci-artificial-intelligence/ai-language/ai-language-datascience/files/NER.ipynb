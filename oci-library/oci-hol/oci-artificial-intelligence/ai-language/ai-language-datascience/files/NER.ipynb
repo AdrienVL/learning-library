{
 "cells": [
  {
   "cell_type": "markdown",
   "id": "fb146c33",
   "metadata": {},
   "source": [
    "### OCI Data Science - Useful Tips\n",
    "<details>\n",
    "<summary><font size=\"2\">Check for Public Internet Access</font></summary>\n",
    "\n",
    "```python\n",
    "import requests\n",
    "response = requests.get(\"https://oracle.com\")\n",
    "assert response.status_code==200, \"Internet connection failed\"\n",
    "```\n",
    "</details>\n",
    "<details>\n",
    "<summary><font size=\"2\">Helpful Documentation </font></summary>\n",
    "<ul><li><a href=\"https://docs.cloud.oracle.com/en-us/iaas/data-science/using/data-science.htm\">Data Science Service Documentation</a></li>\n",
    "<li><a href=\"https://docs.cloud.oracle.com/iaas/tools/ads-sdk/latest/index.html\">ADS documentation</a></li>\n",
    "</ul>\n",
    "</details>\n",
    "<details>\n",
    "<summary><font size=\"2\">Typical Cell Imports and Settings for ADS</font></summary>\n",
    "\n",
    "```python\n",
    "%load_ext autoreload\n",
    "%autoreload 2\n",
    "%matplotlib inline\n",
    "\n",
    "import warnings\n",
    "warnings.filterwarnings('ignore')\n",
    "\n",
    "import logging\n",
    "logging.basicConfig(format='%(levelname)s:%(message)s', level=logging.ERROR)\n",
    "\n",
    "import ads\n",
    "from ads.dataset.factory import DatasetFactory\n",
    "from ads.automl.provider import OracleAutoMLProvider\n",
    "from ads.automl.driver import AutoML\n",
    "from ads.evaluations.evaluator import ADSEvaluator\n",
    "from ads.common.data import ADSData\n",
    "from ads.explanations.explainer import ADSExplainer\n",
    "from ads.explanations.mlx_global_explainer import MLXGlobalExplainer\n",
    "from ads.explanations.mlx_local_explainer import MLXLocalExplainer\n",
    "from ads.catalog.model import ModelCatalog\n",
    "from ads.common.model_artifact import ModelArtifact\n",
    "```\n",
    "</details>\n",
    "<details>\n",
    "<summary><font size=\"2\">Useful Environment Variables</font></summary>\n",
    "\n",
    "```python\n",
    "import os\n",
    "print(os.environ[\"NB_SESSION_COMPARTMENT_OCID\"])\n",
    "print(os.environ[\"PROJECT_OCID\"])\n",
    "print(os.environ[\"USER_OCID\"])\n",
    "print(os.environ[\"TENANCY_OCID\"])\n",
    "print(os.environ[\"NB_REGION\"])\n",
    "```\n",
    "</details>"
   ]
  },
  {
   "cell_type": "code",
   "execution_count": null,
   "id": "61c03e19",
   "metadata": {},
   "outputs": [],
   "source": [
    "# In this notebook, you will learn to call OCI Language from a Data Science Notebook, and how to do analysis on the data.\n",
    "# More specifically, in this exercise you will ingest a set of hotel reviews, use OCI Language to identify the named entities in those reviews, and identify the most popular entities mentioned.\n",
    "# You will not need to write any code from scratch, but we expect you to read the code and understand what we are doing. You can click Shift+Enter on each cell to run the code in the cell."
   ]
  },
  {
   "cell_type": "code",
   "execution_count": null,
   "id": "34b76b34",
   "metadata": {},
   "outputs": [],
   "source": [
    "# Installing required libraries\n",
    "!pip install pandas\n",
    "!pip install ipymarkup\n",
    "!pip install matplotlib"
   ]
  },
  {
   "cell_type": "code",
   "execution_count": null,
   "id": "9e939069",
   "metadata": {},
   "outputs": [],
   "source": [
    "import oci\n",
    "import pandas as pd\n",
    "from ipymarkup import show_ascii_markup\n",
    "from ipymarkup import show_box_markup\n",
    "from matplotlib import pyplot as plt"
   ]
  },
  {
   "cell_type": "code",
   "execution_count": null,
   "id": "ec94de4e",
   "metadata": {},
   "outputs": [],
   "source": [
    "#Read the data from the csv file\n",
    "Data = pd.read_csv('Data.csv')\n",
    "for i in range(Data['Reviews'].size):\n",
    "    if(len(Data['Reviews'][i])>1000):\n",
    "        Data['Reviews'][i] = (Data['Reviews'][i])[:1000]"
   ]
  },
  {
   "cell_type": "code",
   "execution_count": null,
   "id": "43203443",
   "metadata": {},
   "outputs": [],
   "source": [
    "#View 5 Data Points\n",
    "Data.head(5)"
   ]
  },
  {
   "cell_type": "code",
   "execution_count": null,
   "id": "7f9eb928",
   "metadata": {},
   "outputs": [],
   "source": [
    "# Create Language service client with user config default values.\n",
    "ai_client = oci.ai_language.AIServiceLanguageClient(oci.config.from_file())"
   ]
  },
  {
   "cell_type": "code",
   "execution_count": null,
   "id": "76fdf5cc",
   "metadata": {},
   "outputs": [],
   "source": [
    "#Detect Entities\n",
    "result=[]\n",
    "for data in Data.Reviews:\n",
    "    detect_language_entities_details = oci.ai_language.models.DetectLanguageEntitiesDetails(text=data)\n",
    "    output = ai_client.detect_language_entities(detect_language_entities_details)\n",
    "    result += [output.data]"
   ]
  },
  {
   "cell_type": "code",
   "execution_count": null,
   "id": "7d8e46d3",
   "metadata": {},
   "outputs": [],
   "source": [
    "#Set the variable below to true if you only want PII\n",
    "show_PII = False"
   ]
  },
  {
   "cell_type": "code",
   "execution_count": null,
   "id": "293b067b",
   "metadata": {},
   "outputs": [],
   "source": [
    "#View the sentences with the detected Named Entites.\n",
    "# no_of_sentences = len(result)\n",
    "no_of_sentences = 10\n",
    "DataTemp=Data\n",
    "for res in range(no_of_sentences):\n",
    "    spans=[]\n",
    "    show_sen=False\n",
    "    if show_PII:\n",
    "        for i in result[res].entities:\n",
    "            if i.is_pii:\n",
    "                show_sen=True\n",
    "                spans += [(i.offset, i.offset+i.length, i.type+\"(PII)\")]\n",
    "                temp_str = Data.Reviews[res][i.offset:i.offset+i.length]\n",
    "                DataTemp.Reviews[res] = DataTemp.Reviews[res].replace(temp_str, \"*\" * i.length)\n",
    "    else:\n",
    "        show_sen=True\n",
    "        for i in result[res].entities:\n",
    "            if i.is_pii:\n",
    "                spans += [(i.offset, i.offset+i.length, i.type+\"(PII)\")]\n",
    "            else:\n",
    "                spans += [(i.offset, i.offset+i.length, i.type)]\n",
    "    if show_sen:\n",
    "        if show_PII:\n",
    "            show_box_markup(DataTemp.Reviews[res], spans)\n",
    "        else:\n",
    "            show_box_markup(Data.Reviews[res], spans)\n",
    "        print()"
   ]
  },
  {
   "cell_type": "code",
   "execution_count": null,
   "id": "594bc8f3",
   "metadata": {},
   "outputs": [],
   "source": [
    "# build out a data frame of all the named entities and their types\n",
    "no_of_sentences = len(result)\n",
    "# no_of_sentences = 1\n",
    "named_entities=[]\n",
    "for res in range(no_of_sentences):\n",
    "    spans=[]\n",
    "    for i in result[res].entities:\n",
    "        temp_named_entity = (i.text, i.type)\n",
    "        named_entities.append(temp_named_entity)\n",
    "entity_frame = pd.DataFrame(named_entities, \n",
    "                            columns=['Entity Name', 'Entity Type'])"
   ]
  },
  {
   "cell_type": "code",
   "execution_count": null,
   "id": "271d2e03",
   "metadata": {},
   "outputs": [],
   "source": [
    "# transform and aggregate the data frame to find the top occuring entities and types.\n",
    "top_entities = (entity_frame.groupby(by=['Entity Name', 'Entity Type'])\n",
    "                           .size()\n",
    "                           .sort_values(ascending=False)\n",
    "                           .reset_index().rename(columns={0 : 'Frequency'}))"
   ]
  },
  {
   "cell_type": "code",
   "execution_count": null,
   "id": "c5505bf4",
   "metadata": {},
   "outputs": [],
   "source": [
    "no_of_top_entities=15\n",
    "top_entities.iloc[:no_of_top_entities,:]"
   ]
  },
  {
   "cell_type": "code",
   "execution_count": null,
   "id": "97f30581",
   "metadata": {},
   "outputs": [],
   "source": [
    "# transform and aggregate the data frame to find the top occuring entities types.\n",
    "top_entities = (entity_frame.groupby(by=['Entity Type'])\n",
    "                           .size()\n",
    "                           .sort_values(ascending=False)\n",
    "                           .reset_index().rename(columns={0 : 'Frequency'}))"
   ]
  },
  {
   "cell_type": "code",
   "execution_count": null,
   "id": "79fb5094",
   "metadata": {},
   "outputs": [],
   "source": [
    "no_of_top_entities = top_entities['Entity Type'].size\n",
    "top_entities.iloc[:no_of_top_entities,:]"
   ]
  },
  {
   "cell_type": "code",
   "execution_count": null,
   "id": "e8da31ff",
   "metadata": {},
   "outputs": [],
   "source": [
    "# Horizontal Bar Plot\n",
    "fig = plt.figure(figsize =(15, 7))\n",
    "plt.bar(top_entities['Entity Type'], top_entities['Frequency'])\n",
    "# Show Plot\n",
    "plt.show()"
   ]
  }
 ],
 "metadata": {
  "kernelspec": {
   "display_name": "Python 3",
   "language": "python",
   "name": "python3"
  },
  "language_info": {
   "codemirror_mode": {
    "name": "ipython",
    "version": 3
   },
   "file_extension": ".py",
   "mimetype": "text/x-python",
   "name": "python",
   "nbconvert_exporter": "python",
   "pygments_lexer": "ipython3",
   "version": "3.6.13"
  }
 },
 "nbformat": 4,
 "nbformat_minor": 5
}
